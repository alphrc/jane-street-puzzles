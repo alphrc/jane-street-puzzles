{
 "cells": [
  {
   "cell_type": "markdown",
   "metadata": {},
   "source": [
    "# **Jane Street Puzzle - Jan 25**"
   ]
  },
  {
   "cell_type": "markdown",
   "metadata": {},
   "source": [
    "## **Question**\n",
    "\n",
    "https://www.janestreet.com/puzzles/somewhat-square-sudoku-solution/"
   ]
  },
  {
   "cell_type": "markdown",
   "metadata": {},
   "source": [
    "## **Thought to Solution**\n",
    "\n",
    "Recall that the multuples of $1/7$ have the property of:\n",
    "$\\frac{1}{7} \\times 1 = 0.142857\\cdots$, $\\frac{1}{7} \\times 2 = 0.285714\\cdots$, $\\frac{1}{7} \\times 3 = 0.428571\\cdots$\n",
    "\n",
    "Thus, by intuition, the solution would probably be a multiple of $\\displaystyle \\frac{999999999}{x}$\n",
    "\n",
    "Since $999999999 = 3^4 \\times 37 \\times 333667$, and the smallest number has a leading $0$, we should first try $x = 27, 37, 81$\n",
    "\n",
    "Since $\\frac{999999999}{27} \\times n < 100000000$ and $\\frac{999999}{37} \\times n < 100000000$ are repetitive, $x$ cannot be $27$ or $37$, so try only $x = 81$\n",
    "\n",
    "For $\\frac{999999999}{81} \\times n < 100000000$, we have only six solutions for $n$ so that the multiple has distinct numbers: $n = 1, 2, 4, 5, 7, 8$"
   ]
  },
  {
   "cell_type": "code",
   "execution_count": 26,
   "metadata": {},
   "outputs": [
    {
     "name": "stdout",
     "output_type": "stream",
     "text": [
      "x = 5\n",
      "Answer = 283950617\n"
     ]
    }
   ],
   "source": [
    "def unique_digits(n) -> set[str]:\n",
    "    ## Returns the unique digits in the number n\n",
    "    n_str = \"0\" + str(n) if n < 100000000 else str(n)\n",
    "    return set(n_str)\n",
    "\n",
    "def match_digit(l, d, p) -> list[int]:\n",
    "    ## Returns the indices where the digit d is at position p in the element in list l\n",
    "    i_list = []\n",
    "    for i, n in enumerate(l):\n",
    "        n_str = \"0\" + str(n) if n < 100000000 else str(n)\n",
    "        if n_str[p] == d:\n",
    "            i_list.append(i)\n",
    "    return i_list\n",
    "\n",
    "def main():\n",
    "    base = 999999999 // 81\n",
    "\n",
    "    for x in [1, 2, 4, 5, 7, 8]:\n",
    "        m = base * x\n",
    "        digits = unique_digits(m)\n",
    "\n",
    "        if \"2\" not in digits or \"5\" not in digits: ## 2 and 5 must be present\n",
    "            continue\n",
    "\n",
    "        nums = []\n",
    "        for i in range(m, 999999999, base):\n",
    "            if unique_digits(i) == digits:\n",
    "                nums.append(i)\n",
    "\n",
    "        if len(nums) < 9: ## Does not have enough numbers to fill in the 9 rows\n",
    "            continue\n",
    "\n",
    "        match_result = {\n",
    "            \"1\": match_digit(nums, \"2\", 7),\n",
    "            \"2\": match_digit(nums, \"5\", 8),\n",
    "            \"3\": match_digit(nums, \"2\", 1),\n",
    "            \"4\": match_digit(nums, \"0\", 2),\n",
    "            \"6\": match_digit(nums, \"2\", 3),\n",
    "            \"7\": match_digit(nums, \"0\", 4),\n",
    "            \"8\": match_digit(nums, \"2\", 5),\n",
    "            \"9\": match_digit(nums, \"5\", 6)\n",
    "        } ## To match the digits given in the sudoku\n",
    "\n",
    "        if not all(match_result.values()): ## If any of the match_result is empty\n",
    "            continue\n",
    "\n",
    "        if len(set(sum(match_result.values(), []))) < 8: ## If there are duplicate numbers\n",
    "            continue\n",
    "\n",
    "        remaining = list(set(range(9)) - set(sum(match_result.values(), [])))[0]\n",
    "\n",
    "        print(\"x =\", x)\n",
    "        print(\"Answer =\", nums[remaining])\n",
    "\n",
    "if __name__ == \"__main__\":\n",
    "    main()\n",
    "\n"
   ]
  }
 ],
 "metadata": {
  "kernelspec": {
   "display_name": "Python 3",
   "language": "python",
   "name": "python3"
  },
  "language_info": {
   "codemirror_mode": {
    "name": "ipython",
    "version": 3
   },
   "file_extension": ".py",
   "mimetype": "text/x-python",
   "name": "python",
   "nbconvert_exporter": "python",
   "pygments_lexer": "ipython3",
   "version": "3.9.6"
  }
 },
 "nbformat": 4,
 "nbformat_minor": 2
}
